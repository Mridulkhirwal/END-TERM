{
 "cells": [
  {
   "cell_type": "markdown",
   "id": "52b98798-d920-43c9-a591-b47e8667bc7d",
   "metadata": {},
   "source": [
    "Q1. \r\n",
    "The Airline_Passenger_dataset.csv contains details about airline passengers’ satisfaction. Details of the columns present in the dataset is provided below:\r\n",
    "Gender: Gender of the passengers (Female, Male)\r\n",
    "Age: The actual age of the passengers\r\n",
    "Class: Travel class in the plane of the passengers (Business, Eco, Eco Plus)\r\n",
    "Flight distance: The flight distance of this journey\r\n",
    "Ease of Online booking: Satisfaction level of online booking\r\n",
    "Seat comfort: Satisfaction level of Seat comfort\r\n",
    "Inflight entertainment: Satisfaction level of inflight entertainment\r\n",
    "Leg room service: Satisfaction level of Leg room service\r\n",
    "Baggage handling: Satisfaction level of baggage handling\r\n",
    "Inflight service: Satisfaction level of inflight service\r\n",
    "Cleanliness: Satisfaction level of Cleanliness\r\n",
    "Delay in Minutes: Minutes delayed when departure/arrival\r\n",
    "Satisfaction: Airline satisfaction level (Satisfaction, neutral or dissatisfaction) (Target)\r\n",
    "\r\n",
    "Find out the following:\r\n",
    "(a)\tWhat factors are important predictors of customer satisfaction? \r\n",
    "(b)\tCan you predict passenger satisfaction from the following data (available in Airline_new: Male\n",
    "ata: 13\n",
    "xlsx): Eco Plus\n",
    "\r\n",
    "Gender\tAge\tCl: 460\n",
    "ss\tFlight Distance\tEas: 3\n",
    " of Online b: 5\n",
    "oking\tSeat comfort\tInf: 5l\n",
    "ight entertainme: 3\n",
    "t\tLeg room servi: 4\n",
    "e\tBaggage handli: 5\n",
    "g\tInflight : 5s\n",
    "ervice\tCleanline: 25s0\t3\t5\t5\t3\t4\t5\t5\t25\r\n",
    "\t\r\n",
    "Note: You need to perform appropriate data-cleansing, feature scaling/encoding, model fitting and check the performance of the machine learning algorithm. You need to justify the selection of the machine learning technique and the performance measure as well. Plotting graphs is not mandatory. Proper comments should be present to explain important observations.\t\t\t\t\t[2+8+3+3+4+5 = 25 marks]\r\n"
   ]
  },
  {
   "cell_type": "code",
   "execution_count": 2,
   "id": "88231aeb-1ddf-4e80-add4-8e3467393944",
   "metadata": {},
   "outputs": [],
   "source": [
    "import pandas as pd"
   ]
  },
  {
   "cell_type": "code",
   "execution_count": 3,
   "id": "1309aeff-480f-4583-a9d4-c8aa7e8b5d8d",
   "metadata": {},
   "outputs": [],
   "source": [
    "# Loading the files\n",
    "credit_card_customer_data = pd.read_csv('C:/Users/mridu/Downloads/Credit_Card_Customer.csv')\n",
    "airline_passenger_data = pd.read_csv('C:/Users/mridu/Downloads/Airline_Passenger_Dataset.csv')\n",
    "airlines_newdata = pd.read_excel('C:/Users/mridu/Downloads/Airlines_newdata.xlsx')"
   ]
  },
  {
   "cell_type": "code",
   "execution_count": 4,
   "id": "bbcd1650-e716-418e-af5e-6d3efb2104dc",
   "metadata": {},
   "outputs": [
    {
     "data": {
      "text/html": [
       "<div>\n",
       "<style scoped>\n",
       "    .dataframe tbody tr th:only-of-type {\n",
       "        vertical-align: middle;\n",
       "    }\n",
       "\n",
       "    .dataframe tbody tr th {\n",
       "        vertical-align: top;\n",
       "    }\n",
       "\n",
       "    .dataframe thead th {\n",
       "        text-align: right;\n",
       "    }\n",
       "</style>\n",
       "<table border=\"1\" class=\"dataframe\">\n",
       "  <thead>\n",
       "    <tr style=\"text-align: right;\">\n",
       "      <th></th>\n",
       "      <th>Gender</th>\n",
       "      <th>Class</th>\n",
       "      <th>Flight Distance</th>\n",
       "      <th>Ease of Online booking</th>\n",
       "      <th>Seat comfort</th>\n",
       "      <th>Inflight entertainment</th>\n",
       "      <th>Leg room service</th>\n",
       "      <th>Baggage handling</th>\n",
       "      <th>Inflight service</th>\n",
       "      <th>Cleanliness</th>\n",
       "      <th>Delay in Minutes</th>\n",
       "      <th>Age</th>\n",
       "    </tr>\n",
       "  </thead>\n",
       "  <tbody>\n",
       "    <tr>\n",
       "      <th>0</th>\n",
       "      <td>Male</td>\n",
       "      <td>Eco Plus</td>\n",
       "      <td>460</td>\n",
       "      <td>3</td>\n",
       "      <td>5</td>\n",
       "      <td>5</td>\n",
       "      <td>3</td>\n",
       "      <td>4</td>\n",
       "      <td>5</td>\n",
       "      <td>5</td>\n",
       "      <td>25</td>\n",
       "      <td>13</td>\n",
       "    </tr>\n",
       "  </tbody>\n",
       "</table>\n",
       "</div>"
      ],
      "text/plain": [
       "  Gender     Class  Flight Distance  Ease of Online booking  Seat comfort  \\\n",
       "0   Male  Eco Plus              460                       3             5   \n",
       "\n",
       "   Inflight entertainment  Leg room service  Baggage handling  \\\n",
       "0                       5                 3                 4   \n",
       "\n",
       "   Inflight service  Cleanliness  Delay in Minutes  Age  \n",
       "0                 5            5                25   13  "
      ]
     },
     "execution_count": 4,
     "metadata": {},
     "output_type": "execute_result"
    }
   ],
   "source": [
    "#Checking the data in the new data\n",
    "airlines_newdata.head()"
   ]
  },
  {
   "cell_type": "markdown",
   "id": "a7cb2ce5-e664-4252-b930-488165aabe53",
   "metadata": {},
   "source": [
    "# Step 1: Data Cleaning and Encoding"
   ]
  },
  {
   "cell_type": "code",
   "execution_count": 5,
   "id": "b2d18527-97aa-419c-9489-ad615fa95f24",
   "metadata": {},
   "outputs": [],
   "source": [
    "# Encoding categorical variables (Gender, Class, Satisfaction) using Label Encoding or OneHotEncoding\n",
    "from sklearn.preprocessing import LabelEncoder, OneHotEncoder"
   ]
  },
  {
   "cell_type": "code",
   "execution_count": 6,
   "id": "9831610f-799b-4afe-bc50-fbb9e34b51db",
   "metadata": {},
   "outputs": [],
   "source": [
    "# Checking for missing values\n",
    "missing_values = airline_passenger_data.isnull().sum()"
   ]
  },
  {
   "cell_type": "code",
   "execution_count": 7,
   "id": "09e61d26-36f6-436b-89fa-a4bb01c53ab5",
   "metadata": {},
   "outputs": [],
   "source": [
    "# Since there are no missing values observed in the dataset based on the initial check, we proceed with encoding.\n",
    "# Label encoding the target variable 'Satisfaction'\n",
    "label_encoder = LabelEncoder()\n",
    "airline_passenger_data['satisfaction_encoded'] = label_encoder.fit_transform(airline_passenger_data['satisfaction'])"
   ]
  },
  {
   "cell_type": "code",
   "execution_count": 8,
   "id": "3cf51423-7bad-41ba-aaec-0133bc923941",
   "metadata": {},
   "outputs": [],
   "source": [
    "# One-hot encoding for 'Gender' and 'Class' columns\n",
    "airline_passenger_data = pd.get_dummies(airline_passenger_data, columns=['Gender', 'Class'], drop_first=True)"
   ]
  },
  {
   "cell_type": "markdown",
   "id": "f5ab68eb-086b-41cd-98f9-202cd8f30ca0",
   "metadata": {},
   "source": [
    "# Step 2: Feature Scaling and Identifying Important Predictors"
   ]
  },
  {
   "cell_type": "code",
   "execution_count": 9,
   "id": "f1803962-3a6e-4068-b6df-49566151cad0",
   "metadata": {},
   "outputs": [],
   "source": [
    "import matplotlib.pyplot as plt\n",
    "import seaborn as sns\n",
    "from sklearn.preprocessing import StandardScaler"
   ]
  },
  {
   "cell_type": "code",
   "execution_count": 10,
   "id": "9f46da6d-cc2e-49f8-a169-7f5376b9c866",
   "metadata": {},
   "outputs": [],
   "source": [
    "# Feature scaling using StandardScaler\n",
    "scaler = StandardScaler()\n",
    "continuous_columns = ['Age', 'Flight Distance', 'Ease of Online booking', 'Seat comfort', \n",
    "                      'Inflight entertainment', 'Leg room service', 'Baggage handling', \n",
    "                      'Inflight service', 'Cleanliness', 'Delay in Minutes']"
   ]
  },
  {
   "cell_type": "code",
   "execution_count": 11,
   "id": "ff9a2c0f-505a-444d-acc6-a11c542270e5",
   "metadata": {},
   "outputs": [],
   "source": [
    "# Scale continuous columns\n",
    "airline_passenger_data[continuous_columns] = scaler.fit_transform(airline_passenger_data[continuous_columns])"
   ]
  },
  {
   "cell_type": "code",
   "execution_count": 12,
   "id": "458316d7-0d40-46d3-bf6b-92db637c6431",
   "metadata": {},
   "outputs": [],
   "source": [
    "# 'satisfaction_encoded' has already been created in the previous step\n",
    "# Dropping the original 'satisfaction' column for correlation analysis\n",
    "airline_passenger_data_corr = airline_passenger_data.drop(['Unnamed: 0', 'id', 'satisfaction'], axis=1)"
   ]
  },
  {
   "cell_type": "code",
   "execution_count": 13,
   "id": "45de33fc-8a08-4a4b-92cc-f2649c95dc88",
   "metadata": {},
   "outputs": [
    {
     "data": {
      "image/png": "[encoded data removed]",
      "text/plain": [
       "<Figure size 1000x800 with 2 Axes>"
      ]
     },
     "metadata": {},
     "output_type": "display_data"
    }
   ],
   "source": [
    "# Correlation matrix to identify important predictors\n",
    "plt.figure(figsize=(10,8))\n",
    "sns.heatmap(airline_passenger_data_corr.corr(), annot=True, fmt='.2f', cmap='coolwarm')\n",
    "plt.title(\"Correlation Matrix for Feature Importance\")\n",
    "plt.show()\n",
    "# This heatmap will now show the correlations between the numeric columns and the encoded target variable."
   ]
  },
  {
   "cell_type": "markdown",
   "id": "3d142a95-0c93-480a-b2a2-4e5772ac230f",
   "metadata": {},
   "source": [
    "# Step 3: Machine Learning Technique Selection and Justification"
   ]
  },
  {
   "cell_type": "code",
   "execution_count": 14,
   "id": "5a3d0aa3-44fc-43bc-94de-610efd9f0c0c",
   "metadata": {},
   "outputs": [],
   "source": [
    "# I will use Logistic Regression as it is interpretable, simple, and effective for binary classification.\n",
    "# Justification:\n",
    "#Logistic Regression provides insight into feature importance through its coefficients, making it ideal for understanding key predictors.\n",
    "\n",
    "from sklearn.linear_model import LogisticRegression"
   ]
  },
  {
   "cell_type": "code",
   "execution_count": 15,
   "id": "a44aa1ac-cfe9-415c-a89e-b7a437c18b39",
   "metadata": {},
   "outputs": [],
   "source": [
    "# Logistic regression model\n",
    "model = LogisticRegression(max_iter=1000)"
   ]
  },
  {
   "cell_type": "markdown",
   "id": "d7e27a87-405e-46ab-b7ab-ab1707493dba",
   "metadata": {},
   "source": [
    "# Step 4: Model Fitting and Prediction"
   ]
  },
  {
   "cell_type": "code",
   "execution_count": 16,
   "id": "57a2d621-8cc0-4671-8353-f0ca8bc2c4ee",
   "metadata": {},
   "outputs": [],
   "source": [
    "from sklearn.model_selection import train_test_split"
   ]
  },
  {
   "cell_type": "code",
   "execution_count": 17,
   "id": "485b67fa-ee17-4455-961a-9fe4646da4b4",
   "metadata": {},
   "outputs": [],
   "source": [
    "# Defining features (X) and target (y)\n",
    "X = airline_passenger_data.drop(['Unnamed: 0', 'id', 'satisfaction', 'satisfaction_encoded'], axis=1)\n",
    "y = airline_passenger_data['satisfaction_encoded']"
   ]
  },
  {
   "cell_type": "code",
   "execution_count": 18,
   "id": "7ae64f6e-64d7-4f7f-a12d-b02748736e6f",
   "metadata": {},
   "outputs": [],
   "source": [
    "# Splitting the data into training and test sets\n",
    "X_train, X_test, y_train, y_test = train_test_split(X, y, test_size=0.2, random_state=42)"
   ]
  },
  {
   "cell_type": "code",
   "execution_count": 19,
   "id": "22c9cd6e-3f94-411f-9e46-b3dfb1bc70f5",
   "metadata": {},
   "outputs": [
    {
     "data": {
      "text/html": [
       "<style>#sk-container-id-1 {color: black;background-color: white;}#sk-container-id-1 pre{padding: 0;}#sk-container-id-1 div.sk-toggleable {background-color: white;}#sk-container-id-1 label.sk-toggleable__label {cursor: pointer;display: block;width: 100%;margin-bottom: 0;padding: 0.3em;box-sizing: border-box;text-align: center;}#sk-container-id-1 label.sk-toggleable__label-arrow:before {content: \"▸\";float: left;margin-right: 0.25em;color: #696969;}#sk-container-id-1 label.sk-toggleable__label-arrow:hover:before {color: black;}#sk-container-id-1 div.sk-estimator:hover label.sk-toggleable__label-arrow:before {color: black;}#sk-container-id-1 div.sk-toggleable__content {max-height: 0;max-width: 0;overflow: hidden;text-align: left;background-color: #f0f8ff;}#sk-container-id-1 div.sk-toggleable__content pre {margin: 0.2em;color: black;border-radius: 0.25em;background-color: #f0f8ff;}#sk-container-id-1 input.sk-toggleable__control:checked~div.sk-toggleable__content {max-height: 200px;max-width: 100%;overflow: auto;}#sk-container-id-1 input.sk-toggleable__control:checked~label.sk-toggleable__label-arrow:before {content: \"▾\";}#sk-container-id-1 div.sk-estimator input.sk-toggleable__control:checked~label.sk-toggleable__label {background-color: #d4ebff;}#sk-container-id-1 div.sk-label input.sk-toggleable__control:checked~label.sk-toggleable__label {background-color: #d4ebff;}#sk-container-id-1 input.sk-hidden--visually {border: 0;clip: rect(1px 1px 1px 1px);clip: rect(1px, 1px, 1px, 1px);height: 1px;margin: -1px;overflow: hidden;padding: 0;position: absolute;width: 1px;}#sk-container-id-1 div.sk-estimator {font-family: monospace;background-color: #f0f8ff;border: 1px dotted black;border-radius: 0.25em;box-sizing: border-box;margin-bottom: 0.5em;}#sk-container-id-1 div.sk-estimator:hover {background-color: #d4ebff;}#sk-container-id-1 div.sk-parallel-item::after {content: \"\";width: 100%;border-bottom: 1px solid gray;flex-grow: 1;}#sk-container-id-1 div.sk-label:hover label.sk-toggleable__label {background-color: #d4ebff;}#sk-container-id-1 div.sk-serial::before {content: \"\";position: absolute;border-left: 1px solid gray;box-sizing: border-box;top: 0;bottom: 0;left: 50%;z-index: 0;}#sk-container-id-1 div.sk-serial {display: flex;flex-direction: column;align-items: center;background-color: white;padding-right: 0.2em;padding-left: 0.2em;position: relative;}#sk-container-id-1 div.sk-item {position: relative;z-index: 1;}#sk-container-id-1 div.sk-parallel {display: flex;align-items: stretch;justify-content: center;background-color: white;position: relative;}#sk-container-id-1 div.sk-item::before, #sk-container-id-1 div.sk-parallel-item::before {content: \"\";position: absolute;border-left: 1px solid gray;box-sizing: border-box;top: 0;bottom: 0;left: 50%;z-index: -1;}#sk-container-id-1 div.sk-parallel-item {display: flex;flex-direction: column;z-index: 1;position: relative;background-color: white;}#sk-container-id-1 div.sk-parallel-item:first-child::after {align-self: flex-end;width: 50%;}#sk-container-id-1 div.sk-parallel-item:last-child::after {align-self: flex-start;width: 50%;}#sk-container-id-1 div.sk-parallel-item:only-child::after {width: 0;}#sk-container-id-1 div.sk-dashed-wrapped {border: 1px dashed gray;margin: 0 0.4em 0.5em 0.4em;box-sizing: border-box;padding-bottom: 0.4em;background-color: white;}#sk-container-id-1 div.sk-label label {font-family: monospace;font-weight: bold;display: inline-block;line-height: 1.2em;}#sk-container-id-1 div.sk-label-container {text-align: center;}#sk-container-id-1 div.sk-container {/* jupyter's `normalize.less` sets `[hidden] { display: none; }` but bootstrap.min.css set `[hidden] { display: none !important; }` so we also need the `!important` here to be able to override the default hidden behavior on the sphinx rendered scikit-learn.org. See: https://github.com/scikit-learn/scikit-learn/issues/21755 */display: inline-block !important;position: relative;}#sk-container-id-1 div.sk-text-repr-fallback {display: none;}</style><div id=\"sk-container-id-1\" class=\"sk-top-container\"><div class=\"sk-text-repr-fallback\"><pre>LogisticRegression(max_iter=1000)</pre><b>In a Jupyter environment, please rerun this cell to show the HTML representation or trust the notebook. <br />On GitHub, the HTML representation is unable to render, please try loading this page with nbviewer.org.</b></div><div class=\"sk-container\" hidden><div class=\"sk-item\"><div class=\"sk-estimator sk-toggleable\"><input class=\"sk-toggleable__control sk-hidden--visually\" id=\"sk-estimator-id-1\" type=\"checkbox\" checked><label for=\"sk-estimator-id-1\" class=\"sk-toggleable__label sk-toggleable__label-arrow\">LogisticRegression</label><div class=\"sk-toggleable__content\"><pre>LogisticRegression(max_iter=1000)</pre></div></div></div></div></div>"
      ],
      "text/plain": [
       "LogisticRegression(max_iter=1000)"
      ]
     },
     "execution_count": 19,
     "metadata": {},
     "output_type": "execute_result"
    }
   ],
   "source": [
    "# Fitting the model\n",
    "model.fit(X_train, y_train)"
   ]
  },
  {
   "cell_type": "code",
   "execution_count": 20,
   "id": "86ac31f0-91ba-4d4e-826c-d7e05ba11f18",
   "metadata": {},
   "outputs": [],
   "source": [
    "# Predicting on test data\n",
    "y_pred = model.predict(X_test)"
   ]
  },
  {
   "cell_type": "markdown",
   "id": "dd94cebf-59bd-436c-bc6f-f5764e4a680d",
   "metadata": {},
   "source": [
    "# Step 5: Checking Model Performance"
   ]
  },
  {
   "cell_type": "code",
   "execution_count": 21,
   "id": "dd9c535a-e218-47e0-bf60-2dde267f4745",
   "metadata": {},
   "outputs": [],
   "source": [
    "from sklearn.metrics import classification_report, accuracy_score"
   ]
  },
  {
   "cell_type": "code",
   "execution_count": 22,
   "id": "5c796047-7f8e-481a-a017-ddfd255ccd6d",
   "metadata": {},
   "outputs": [],
   "source": [
    "# Generating classification report and accuracy score\n",
    "classification_rep = classification_report(y_test, y_pred)\n",
    "accuracy = accuracy_score(y_test, y_pred)"
   ]
  },
  {
   "cell_type": "code",
   "execution_count": 23,
   "id": "ad35cca5-627a-47d7-b21f-be6f5554fefb",
   "metadata": {},
   "outputs": [
    {
     "name": "stdout",
     "output_type": "stream",
     "text": [
      "Classification Report:\n",
      "               precision    recall  f1-score   support\n",
      "\n",
      "           0       0.80      0.85      0.83       682\n",
      "           1       0.79      0.72      0.75       519\n",
      "\n",
      "    accuracy                           0.80      1201\n",
      "   macro avg       0.79      0.79      0.79      1201\n",
      "weighted avg       0.80      0.80      0.79      1201\n",
      "\n",
      "Accuracy: 0.7960033305578684\n"
     ]
    }
   ],
   "source": [
    "print(\"Classification Report:\\n\", classification_rep)\n",
    "print(\"Accuracy:\", accuracy)\n",
    "# The report includes precision, recall, F1-score, and overall accuracy, which allows us to assess model performance."
   ]
  },
  {
   "cell_type": "code",
   "execution_count": 24,
   "id": "26147f70-c5c0-4129-8d9b-857331d7e95a",
   "metadata": {},
   "outputs": [],
   "source": [
    "new_passenger_data = {\n",
    "    'Age': [13],\n",
    "    'Flight Distance': [460],\n",
    "    'Ease of Online booking': [3],\n",
    "    'Seat comfort': [5],\n",
    "    'Inflight entertainment': [5],\n",
    "    'Leg room service': [3],\n",
    "    'Baggage handling': [4],\n",
    "    'Inflight service': [5],\n",
    "    'Cleanliness': [5],\n",
    "    'Delay in Minutes': [25],\n",
    "    'Gender_Male': [1],  # Male\n",
    "    'Class_Eco': [0],    # Not Eco\n",
    "    'Class_Eco Plus': [1]  # Eco Plus class\n",
    "}"
   ]
  },
  {
   "cell_type": "code",
   "execution_count": 25,
   "id": "a26a087c-03b6-404b-acfa-78301384b70f",
   "metadata": {},
   "outputs": [],
   "source": [
    "# Convert to DataFrame\n",
    "new_passenger_df = pd.DataFrame(new_passenger_data)"
   ]
  },
  {
   "cell_type": "code",
   "execution_count": 26,
   "id": "9b454369-7c01-4660-90a3-40bd6a554b45",
   "metadata": {},
   "outputs": [],
   "source": [
    "# Scaling the continuous features\n",
    "new_passenger_df[continuous_columns] = scaler.transform(new_passenger_df[continuous_columns])"
   ]
  },
  {
   "cell_type": "code",
   "execution_count": 27,
   "id": "2959f8d8-4a2a-46f8-aa0f-c8c9b774eda0",
   "metadata": {},
   "outputs": [],
   "source": [
    "# Predict satisfaction for the new passenger\n",
    "new_passenger_prediction = model.predict(new_passenger_df)"
   ]
  },
  {
   "cell_type": "code",
   "execution_count": 28,
   "id": "54a0dcda-e5ac-4a3c-a1ff-195ee9623ba3",
   "metadata": {},
   "outputs": [
    {
     "name": "stdout",
     "output_type": "stream",
     "text": [
      "Predicted Satisfaction for the new passenger: ['neutral or dissatisfied']\n"
     ]
    }
   ],
   "source": [
    "# Decoding the prediction result\n",
    "predicted_satisfaction = label_encoder.inverse_transform(new_passenger_prediction)\n",
    "print(\"Predicted Satisfaction for the new passenger:\", predicted_satisfaction)"
   ]
  },
  {
   "cell_type": "code",
   "execution_count": 29,
   "id": "cbc02088-a196-40ba-97e3-2a02276c9caf",
   "metadata": {},
   "outputs": [],
   "source": [
    "from sklearn.ensemble import RandomForestClassifier"
   ]
  },
  {
   "cell_type": "code",
   "execution_count": 30,
   "id": "55f13bc4-5240-4060-ace9-52ffbb56d051",
   "metadata": {},
   "outputs": [
    {
     "data": {
      "text/html": [
       "<style>#sk-container-id-2 {color: black;background-color: white;}#sk-container-id-2 pre{padding: 0;}#sk-container-id-2 div.sk-toggleable {background-color: white;}#sk-container-id-2 label.sk-toggleable__label {cursor: pointer;display: block;width: 100%;margin-bottom: 0;padding: 0.3em;box-sizing: border-box;text-align: center;}#sk-container-id-2 label.sk-toggleable__label-arrow:before {content: \"▸\";float: left;margin-right: 0.25em;color: #696969;}#sk-container-id-2 label.sk-toggleable__label-arrow:hover:before {color: black;}#sk-container-id-2 div.sk-estimator:hover label.sk-toggleable__label-arrow:before {color: black;}#sk-container-id-2 div.sk-toggleable__content {max-height: 0;max-width: 0;overflow: hidden;text-align: left;background-color: #f0f8ff;}#sk-container-id-2 div.sk-toggleable__content pre {margin: 0.2em;color: black;border-radius: 0.25em;background-color: #f0f8ff;}#sk-container-id-2 input.sk-toggleable__control:checked~div.sk-toggleable__content {max-height: 200px;max-width: 100%;overflow: auto;}#sk-container-id-2 input.sk-toggleable__control:checked~label.sk-toggleable__label-arrow:before {content: \"▾\";}#sk-container-id-2 div.sk-estimator input.sk-toggleable__control:checked~label.sk-toggleable__label {background-color: #d4ebff;}#sk-container-id-2 div.sk-label input.sk-toggleable__control:checked~label.sk-toggleable__label {background-color: #d4ebff;}#sk-container-id-2 input.sk-hidden--visually {border: 0;clip: rect(1px 1px 1px 1px);clip: rect(1px, 1px, 1px, 1px);height: 1px;margin: -1px;overflow: hidden;padding: 0;position: absolute;width: 1px;}#sk-container-id-2 div.sk-estimator {font-family: monospace;background-color: #f0f8ff;border: 1px dotted black;border-radius: 0.25em;box-sizing: border-box;margin-bottom: 0.5em;}#sk-container-id-2 div.sk-estimator:hover {background-color: #d4ebff;}#sk-container-id-2 div.sk-parallel-item::after {content: \"\";width: 100%;border-bottom: 1px solid gray;flex-grow: 1;}#sk-container-id-2 div.sk-label:hover label.sk-toggleable__label {background-color: #d4ebff;}#sk-container-id-2 div.sk-serial::before {content: \"\";position: absolute;border-left: 1px solid gray;box-sizing: border-box;top: 0;bottom: 0;left: 50%;z-index: 0;}#sk-container-id-2 div.sk-serial {display: flex;flex-direction: column;align-items: center;background-color: white;padding-right: 0.2em;padding-left: 0.2em;position: relative;}#sk-container-id-2 div.sk-item {position: relative;z-index: 1;}#sk-container-id-2 div.sk-parallel {display: flex;align-items: stretch;justify-content: center;background-color: white;position: relative;}#sk-container-id-2 div.sk-item::before, #sk-container-id-2 div.sk-parallel-item::before {content: \"\";position: absolute;border-left: 1px solid gray;box-sizing: border-box;top: 0;bottom: 0;left: 50%;z-index: -1;}#sk-container-id-2 div.sk-parallel-item {display: flex;flex-direction: column;z-index: 1;position: relative;background-color: white;}#sk-container-id-2 div.sk-parallel-item:first-child::after {align-self: flex-end;width: 50%;}#sk-container-id-2 div.sk-parallel-item:last-child::after {align-self: flex-start;width: 50%;}#sk-container-id-2 div.sk-parallel-item:only-child::after {width: 0;}#sk-container-id-2 div.sk-dashed-wrapped {border: 1px dashed gray;margin: 0 0.4em 0.5em 0.4em;box-sizing: border-box;padding-bottom: 0.4em;background-color: white;}#sk-container-id-2 div.sk-label label {font-family: monospace;font-weight: bold;display: inline-block;line-height: 1.2em;}#sk-container-id-2 div.sk-label-container {text-align: center;}#sk-container-id-2 div.sk-container {/* jupyter's `normalize.less` sets `[hidden] { display: none; }` but bootstrap.min.css set `[hidden] { display: none !important; }` so we also need the `!important` here to be able to override the default hidden behavior on the sphinx rendered scikit-learn.org. See: https://github.com/scikit-learn/scikit-learn/issues/21755 */display: inline-block !important;position: relative;}#sk-container-id-2 div.sk-text-repr-fallback {display: none;}</style><div id=\"sk-container-id-2\" class=\"sk-top-container\"><div class=\"sk-text-repr-fallback\"><pre>RandomForestClassifier(random_state=42)</pre><b>In a Jupyter environment, please rerun this cell to show the HTML representation or trust the notebook. <br />On GitHub, the HTML representation is unable to render, please try loading this page with nbviewer.org.</b></div><div class=\"sk-container\" hidden><div class=\"sk-item\"><div class=\"sk-estimator sk-toggleable\"><input class=\"sk-toggleable__control sk-hidden--visually\" id=\"sk-estimator-id-2\" type=\"checkbox\" checked><label for=\"sk-estimator-id-2\" class=\"sk-toggleable__label sk-toggleable__label-arrow\">RandomForestClassifier</label><div class=\"sk-toggleable__content\"><pre>RandomForestClassifier(random_state=42)</pre></div></div></div></div></div>"
      ],
      "text/plain": [
       "RandomForestClassifier(random_state=42)"
      ]
     },
     "execution_count": 30,
     "metadata": {},
     "output_type": "execute_result"
    }
   ],
   "source": [
    "# Random Forest to assess feature importance\n",
    "rf_model = RandomForestClassifier(n_estimators=100, random_state=42)\n",
    "rf_model.fit(X_train, y_train)"
   ]
  },
  {
   "cell_type": "code",
   "execution_count": 31,
   "id": "e445c085-1a3e-4000-8faf-3c94811fcfa2",
   "metadata": {},
   "outputs": [],
   "source": [
    "# Get feature importance from the Random Forest model\n",
    "importances = rf_model.feature_importances_"
   ]
  },
  {
   "cell_type": "code",
   "execution_count": 32,
   "id": "36cc0608-a8a1-4c6a-af83-86d6e3fcb6c4",
   "metadata": {},
   "outputs": [],
   "source": [
    "# Creating a dataframe for better visualization\n",
    "feature_importance_df = pd.DataFrame({\n",
    "    'Feature': X.columns,\n",
    "    'Importance': importances\n",
    "}).sort_values(by='Importance', ascending=False)"
   ]
  },
  {
   "cell_type": "code",
   "execution_count": 33,
   "id": "730adc13-21e8-4ffa-9807-e06b677fff1b",
   "metadata": {},
   "outputs": [
    {
     "name": "stdout",
     "output_type": "stream",
     "text": [
      "Important features based on Random Forest:\n",
      "                   Feature  Importance\n",
      "1          Flight Distance    0.131082\n",
      "11               Class_Eco    0.116727\n",
      "0                      Age    0.111790\n",
      "2   Ease of Online booking    0.106598\n",
      "4   Inflight entertainment    0.102499\n",
      "5         Leg room service    0.090006\n",
      "3             Seat comfort    0.087911\n",
      "6         Baggage handling    0.060839\n",
      "8              Cleanliness    0.060125\n",
      "7         Inflight service    0.049374\n",
      "9         Delay in Minutes    0.049341\n",
      "10             Gender_Male    0.017674\n",
      "12          Class_Eco Plus    0.016033\n"
     ]
    }
   ],
   "source": [
    "print(\"Important features based on Random Forest:\")\n",
    "print(feature_importance_df)"
   ]
  },
  {
   "cell_type": "markdown",
   "id": "b42925de-284a-4be4-a0fc-1d13159f0343",
   "metadata": {},
   "source": [
    "Q2.\n",
    "Customer Credit Card Information Dataset (Credit_Card_Customer.csv) contains the following columns:\n",
    "•\tSl_No: Just a denotation of the number of the record number.\n",
    "•\tCustomer Key: The unique customer identifier\n",
    "•\tAvgCreditLimit: The average credit limit of the customer\n",
    "•\tTotalCreditCards: Total number of credit cards that the customer holds\n",
    "•\tTotalvisitsbank: Total number of physical visits to the bank\n",
    "•\tTotalvisitsonline: Total Number of online visits\n",
    "•\tTotalcallsmade: Total Number of calls made to customer care representatives\n",
    "Use Agglomerative Clustering to segment the customers into different target groups and provide your observations on how these customers should be targeted.\n",
    "Note: Perform appropriate data-cleansing, feature scaling/encoding.               [2+5+2+2+4= 15 marks]\n"
   ]
  },
  {
   "cell_type": "code",
   "execution_count": 34,
   "id": "b021f855-73a0-44df-bbcb-18ce3017feda",
   "metadata": {},
   "outputs": [],
   "source": [
    "# Loading the Credit Card Customer dataset\n",
    "credit_card_customer_data = pd.read_csv('C:/Users/mridu/Downloads/Credit_Card_Customer.csv')"
   ]
  },
  {
   "cell_type": "code",
   "execution_count": 35,
   "id": "ef4b833b-f318-4944-be33-0ba717346435",
   "metadata": {},
   "outputs": [],
   "source": [
    "# Dropping irrelevant columns (Sl_No, Customer Key) for clustering\n",
    "credit_card_customer_data_clean = credit_card_customer_data.drop(['Sl_No', 'Customer Key'], axis=1)"
   ]
  },
  {
   "cell_type": "code",
   "execution_count": 36,
   "id": "4c8cf02f-7c4b-4dde-bb3e-68d387497143",
   "metadata": {},
   "outputs": [
    {
     "name": "stdout",
     "output_type": "stream",
     "text": [
      "Missing values in the dataset:\n",
      " Avg_Credit_Limit       0\n",
      "Total_Credit_Cards     0\n",
      "Total_visits_bank      0\n",
      "Total_visits_online    0\n",
      "Total_calls_made       0\n",
      "dtype: int64\n"
     ]
    }
   ],
   "source": [
    "# Checking for missing values (if any)\n",
    "missing_values = credit_card_customer_data_clean.isnull().sum()\n",
    "print(\"Missing values in the dataset:\\n\", missing_values)"
   ]
  },
  {
   "cell_type": "code",
   "execution_count": 37,
   "id": "32ea0694-554c-40db-aafd-d48963d2387d",
   "metadata": {},
   "outputs": [],
   "source": [
    "from sklearn.preprocessing import StandardScaler"
   ]
  },
  {
   "cell_type": "code",
   "execution_count": 38,
   "id": "ba981387-a484-4cfe-85e6-a0dfdfb24256",
   "metadata": {},
   "outputs": [],
   "source": [
    "# Scaling the features using StandardScaler\n",
    "scaler = StandardScaler()"
   ]
  },
  {
   "cell_type": "code",
   "execution_count": 39,
   "id": "36848e72-78ac-415e-b6b6-b1e165184450",
   "metadata": {},
   "outputs": [],
   "source": [
    "# Fit and transform the clean data\n",
    "scaled_data = scaler.fit_transform(credit_card_customer_data_clean)"
   ]
  },
  {
   "cell_type": "code",
   "execution_count": 40,
   "id": "c1dfb86f-a603-4c2c-8143-89f4af29cc43",
   "metadata": {},
   "outputs": [],
   "source": [
    "# Convert the scaled data back to a DataFrame for easier interpretation\n",
    "scaled_credit_data = pd.DataFrame(scaled_data, columns=credit_card_customer_data_clean.columns)\n",
    "# The data is now ready for clustering."
   ]
  },
  {
   "cell_type": "code",
   "execution_count": 41,
   "id": "5af7022e-e6b3-43df-88d6-4640c7465446",
   "metadata": {},
   "outputs": [],
   "source": [
    "from sklearn.cluster import AgglomerativeClustering"
   ]
  },
  {
   "cell_type": "code",
   "execution_count": 42,
   "id": "b3a6ecc4-db26-466a-b097-982e35fd2db6",
   "metadata": {},
   "outputs": [],
   "source": [
    "# Applying Agglomerative Clustering with a chosen number of clusters, say 3.\n",
    "agg_cluster = AgglomerativeClustering(n_clusters=3, metric='euclidean', linkage='ward')"
   ]
  },
  {
   "cell_type": "code",
   "execution_count": 43,
   "id": "32a777d7-ca4f-4520-a0b1-892fc504a325",
   "metadata": {},
   "outputs": [],
   "source": [
    "#for older version of sklearn.cluster\n",
    "# agg_cluster = AgglomerativeClustering(n_clusters=3, affinity='euclidean', linkage='ward')"
   ]
  },
  {
   "cell_type": "code",
   "execution_count": 44,
   "id": "cc6d4a52-93f3-4dc4-a543-b2c4bd27cf98",
   "metadata": {},
   "outputs": [],
   "source": [
    "# Fitting the model and predicting cluster assignments\n",
    "customer_clusters = agg_cluster.fit_predict(scaled_credit_data)"
   ]
  },
  {
   "cell_type": "code",
   "execution_count": 45,
   "id": "6b9c6130-8aa4-4e8a-a126-933f02285c8a",
   "metadata": {},
   "outputs": [],
   "source": [
    "# Adding the cluster assignment to the original dataframe\n",
    "credit_card_customer_data['Cluster'] = customer_clusters"
   ]
  },
  {
   "cell_type": "code",
   "execution_count": 46,
   "id": "2bdb658a-c30c-4a17-a603-043a9783c0d4",
   "metadata": {},
   "outputs": [
    {
     "data": {
      "text/html": [
       "<div>\n",
       "<style scoped>\n",
       "    .dataframe tbody tr th:only-of-type {\n",
       "        vertical-align: middle;\n",
       "    }\n",
       "\n",
       "    .dataframe tbody tr th {\n",
       "        vertical-align: top;\n",
       "    }\n",
       "\n",
       "    .dataframe thead th {\n",
       "        text-align: right;\n",
       "    }\n",
       "</style>\n",
       "<table border=\"1\" class=\"dataframe\">\n",
       "  <thead>\n",
       "    <tr style=\"text-align: right;\">\n",
       "      <th></th>\n",
       "      <th>Sl_No</th>\n",
       "      <th>Customer Key</th>\n",
       "      <th>Avg_Credit_Limit</th>\n",
       "      <th>Total_Credit_Cards</th>\n",
       "      <th>Total_visits_bank</th>\n",
       "      <th>Total_visits_online</th>\n",
       "      <th>Total_calls_made</th>\n",
       "      <th>Cluster</th>\n",
       "    </tr>\n",
       "  </thead>\n",
       "  <tbody>\n",
       "    <tr>\n",
       "      <th>0</th>\n",
       "      <td>1</td>\n",
       "      <td>87073</td>\n",
       "      <td>100000</td>\n",
       "      <td>2</td>\n",
       "      <td>1</td>\n",
       "      <td>1</td>\n",
       "      <td>0</td>\n",
       "      <td>0</td>\n",
       "    </tr>\n",
       "    <tr>\n",
       "      <th>1</th>\n",
       "      <td>2</td>\n",
       "      <td>38414</td>\n",
       "      <td>50000</td>\n",
       "      <td>3</td>\n",
       "      <td>0</td>\n",
       "      <td>10</td>\n",
       "      <td>9</td>\n",
       "      <td>1</td>\n",
       "    </tr>\n",
       "    <tr>\n",
       "      <th>2</th>\n",
       "      <td>3</td>\n",
       "      <td>17341</td>\n",
       "      <td>50000</td>\n",
       "      <td>7</td>\n",
       "      <td>1</td>\n",
       "      <td>3</td>\n",
       "      <td>4</td>\n",
       "      <td>0</td>\n",
       "    </tr>\n",
       "    <tr>\n",
       "      <th>3</th>\n",
       "      <td>4</td>\n",
       "      <td>40496</td>\n",
       "      <td>30000</td>\n",
       "      <td>5</td>\n",
       "      <td>1</td>\n",
       "      <td>1</td>\n",
       "      <td>4</td>\n",
       "      <td>0</td>\n",
       "    </tr>\n",
       "    <tr>\n",
       "      <th>4</th>\n",
       "      <td>5</td>\n",
       "      <td>47437</td>\n",
       "      <td>100000</td>\n",
       "      <td>6</td>\n",
       "      <td>0</td>\n",
       "      <td>12</td>\n",
       "      <td>3</td>\n",
       "      <td>2</td>\n",
       "    </tr>\n",
       "  </tbody>\n",
       "</table>\n",
       "</div>"
      ],
      "text/plain": [
       "   Sl_No  Customer Key  Avg_Credit_Limit  Total_Credit_Cards  \\\n",
       "0      1         87073            100000                   2   \n",
       "1      2         38414             50000                   3   \n",
       "2      3         17341             50000                   7   \n",
       "3      4         40496             30000                   5   \n",
       "4      5         47437            100000                   6   \n",
       "\n",
       "   Total_visits_bank  Total_visits_online  Total_calls_made  Cluster  \n",
       "0                  1                    1                 0        0  \n",
       "1                  0                   10                 9        1  \n",
       "2                  1                    3                 4        0  \n",
       "3                  1                    1                 4        0  \n",
       "4                  0                   12                 3        2  "
      ]
     },
     "execution_count": 46,
     "metadata": {},
     "output_type": "execute_result"
    }
   ],
   "source": [
    "# Displaying the first few rows with cluster assignment\n",
    "credit_card_customer_data.head()"
   ]
  },
  {
   "cell_type": "code",
   "execution_count": 47,
   "id": "be4f1fde-01ee-422e-9da4-3855565d5068",
   "metadata": {},
   "outputs": [],
   "source": [
    "# Observations:\n",
    "# Cluster 0: This group may have high credit limits and more online visits, making them digitally savvy customers.\n",
    "#Target with online services and promotions.\n",
    "\n",
    "# Cluster 1: Customers in this group might have lower credit limits and frequent calls to customer service, indicating they require more personal assistance. Target with personalized customer support and loyalty programs.\n",
    "# Cluster 2: These customers may have moderate credit limits and make physical visits to the bank more often, suggesting they prefer face-to-face interactions. Target with in-branch services and exclusive offers for visiting customers.\n",
    "\n",
    "# These insights can help to tailor marketing strategies for each group based on their behavior patterns.\n"
   ]
  },
  {
   "cell_type": "code",
   "execution_count": null,
   "id": "98e7ecd9-491b-46aa-adff-bb16636fdc5f",
   "metadata": {},
   "outputs": [],
   "source": []
  }
 ],
 "metadata": {
  "kernelspec": {
   "display_name": "Python 3 (ipykernel)",
   "language": "python",
   "name": "python3"
  },
  "language_info": {
   "codemirror_mode": {
    "name": "ipython",
    "version": 3
   },
   "file_extension": ".py",
   "mimetype": "text/x-python",
   "name": "python",
   "nbconvert_exporter": "python",
   "pygments_lexer": "ipython3",
   "version": "3.11.7"
  }
 },
 "nbformat": 4,
 "nbformat_minor": 5
}
